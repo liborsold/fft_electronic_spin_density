{
 "cells": [
  {
   "cell_type": "code",
   "execution_count": null,
   "id": "ee66ffc7",
   "metadata": {},
   "outputs": [
    {
     "ename": "ModuleNotFoundError",
     "evalue": "No module named 'overlap_term_behavior'",
     "output_type": "error",
     "traceback": [
      "\u001b[0;31m---------------------------------------------------------------------------\u001b[0m",
      "\u001b[0;31mModuleNotFoundError\u001b[0m                       Traceback (most recent call last)",
      "Cell \u001b[0;32mIn[1], line 1\u001b[0m\n\u001b[0;32m----> 1\u001b[0m \u001b[38;5;28;01mfrom\u001b[39;00m\u001b[38;5;250m \u001b[39m\u001b[38;5;21;01moverlap_term_behavior\u001b[39;00m\u001b[38;5;250m \u001b[39m\u001b[38;5;28;01mimport\u001b[39;00m gaussian_orbital\n",
      "\u001b[0;31mModuleNotFoundError\u001b[0m: No module named 'overlap_term_behavior'"
     ]
    }
   ],
   "source": [
    "import numpy as np\n",
    "import matplotlib.pyplot as plt"
   ]
  },
  {
   "cell_type": "code",
   "execution_count": null,
   "id": "56cb5f74",
   "metadata": {},
   "outputs": [],
   "source": [
    "def gaussian_orbital(x, y, x0, y0, sigma):\n",
    "    \"\"\"Need an extra square root in the prefactor and a /2 in the exponent so that the function squared is normalized (not the function itself), \n",
    "    since it represents a wave function, not the density.\"\"\"\n",
    "    n = 2\n",
    "    return np.sqrt(1/(sigma**n * (2*np.pi)**(n/2))) * np.exp(-((x - x0) ** 2 + (y - y0) ** 2) / (2 * sigma ** 2) / 2)\n",
    "\n",
    "def gaussian_asymmetrical_inversion_symmetric(x, y, charge_copper, charge_ligands, sigma_Cu, sigma_ligands, R_Cu_lig, x_displace=1.0, x_asymmetry=-0.2):\n",
    "    sigma = 0.1\n",
    "    x0_arr = [-0.2, -0.3, -0.4, -0.3]\n",
    "    y0_arr = [0.2, 0.1, 0.0, -0.1]\n",
    "\n",
    "    def phi1_fun(x, y):\n",
    "        phi = lambda x, y: gaussian_orbital(x, y, x0_arr[0], y0_arr[0], sigma)\n",
    "        for i in range(1, len(x0_arr)):\n",
    "            phi += lambda x, y: gaussian_orbital(x, y, x0_arr[i], y0_arr[i], sigma)\n",
    "        return phi\n",
    "    phi2 = phi1_fun(-x, -y)\n",
    "    # single-electron and overlap densities\n",
    "    rho11 = np.abs(phi1)**2\n",
    "    rho22 = np.abs(phi2)**2\n",
    "    rho12 = np.conj(phi1) * phi2\n",
    "    return rho11, rho22, rho12\n",
    "\n",
    "def plot_density(rho, xy_lim, title='Real-space Electronic Spin Density', cmap='berlin'):\n",
    "    fig, ax = plt.subplots(figsize=(6, 6))\n",
    "    ax.imshow(rho, extent=(-xy_lim, xy_lim, -xy_lim, xy_lim), origin='lower', cmap=cmap)\n",
    "    ax.set_xlabel('x (Angstrom)')\n",
    "    ax.set_ylabel('y (Angstrom)')\n",
    "    ax.set_title(title)\n",
    "    plt.colorbar(ax.imshow(rho, extent=(-xy_lim, xy_lim, -xy_lim, xy_lim), origin='lower', cmap=cmap), ax=ax)\n",
    "    plt.show()\n"
   ]
  }
 ],
 "metadata": {
  "kernelspec": {
   "display_name": "Python 3",
   "language": "python",
   "name": "python3"
  },
  "language_info": {
   "codemirror_mode": {
    "name": "ipython",
    "version": 3
   },
   "file_extension": ".py",
   "mimetype": "text/x-python",
   "name": "python",
   "nbconvert_exporter": "python",
   "pygments_lexer": "ipython3",
   "version": "3.10.12"
  }
 },
 "nbformat": 4,
 "nbformat_minor": 5
}
